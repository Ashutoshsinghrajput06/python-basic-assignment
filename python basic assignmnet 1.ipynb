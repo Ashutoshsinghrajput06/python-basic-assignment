{
  "nbformat": 4,
  "nbformat_minor": 0,
  "metadata": {
    "colab": {
      "provenance": []
    },
    "kernelspec": {
      "name": "python3",
      "display_name": "Python 3"
    },
    "language_info": {
      "name": "python"
    }
  },
  "cells": [
    {
      "cell_type": "markdown",
      "source": [],
      "metadata": {
        "id": "zesvbcyJMR9z"
      }
    },
    {
      "cell_type": "markdown",
      "source": [],
      "metadata": {
        "id": "H0O19E-TLmKu"
      }
    },
    {
      "cell_type": "markdown",
      "source": [
        "1. python is progmaing language,like a set of specail rules and symbol thta you use to give instruction to a computer.\n",
        "Because of it is widely used in data industry.\n",
        "a lot of libraries are there. and the nature is like verstility and very easy o read the code."
      ],
      "metadata": {
        "id": "KplW2KJOMUMv"
      }
    },
    {
      "cell_type": "markdown",
      "source": [
        "2. In python an intrepreter is a program read and execute the codeof python line by line . eg-vs code,pycharm, jupyter,  "
      ],
      "metadata": {
        "id": "V19QCDuMNiMx"
      }
    },
    {
      "cell_type": "markdown",
      "source": [
        "3. Key words are pre defined words thta hold a specific meanining and have specific purpose. like help('keywords')."
      ],
      "metadata": {
        "id": "psnD8O9aOqz5"
      }
    },
    {
      "cell_type": "markdown",
      "source": [
        "4.  No, we can not use the keywords as varible name assigment."
      ],
      "metadata": {
        "id": "BLdNp-tEPR0_"
      }
    },
    {
      "cell_type": "markdown",
      "source": [
        "5. Object/container whose state or value can be changed after they are created are called as mutable objects or container. eg- list,"
      ],
      "metadata": {
        "id": "dusIX_rqPkCd"
      }
    },
    {
      "cell_type": "markdown",
      "source": [
        "6. List is mutable because after creating we can change the  object  inside the list. but in tupple after creating the object there we can't we cahnge the value that's why tupple is called immutable."
      ],
      "metadata": {
        "id": "qjFsnsBsQX-j"
      }
    },
    {
      "cell_type": "markdown",
      "source": [
        "7. The '==' are use for comprator these constraints are typically written so that the equality operator == returns True if two objects, have the same value and returns False if both have different value. , but 'is' operator  are used to compare objects based on their identity. When the variables on either side of an operator point at the exact same object, the “is” operator’s evaluation is true."
      ],
      "metadata": {
        "id": "pLxpg9luRLhY"
      }
    },
    {
      "cell_type": "markdown",
      "source": [
        "8. In Python, logical operators are used to combine multiple conditions together and evaluate them as a single boolean expression"
      ],
      "metadata": {
        "id": "aIG2hJ-_SJho"
      }
    },
    {
      "cell_type": "markdown",
      "source": [
        "9.Type casting is nothing more the process of changing the data type of value /object is called type casting."
      ],
      "metadata": {
        "id": "X4BBdu0wTCjm"
      }
    },
    {
      "cell_type": "markdown",
      "source": [
        "10. the differnce is that in implict type casting python understand the data type, but in explict type casting we can convert data type using inbuilt function."
      ],
      "metadata": {
        "id": "bBaahStXTwlM"
      }
    },
    {
      "cell_type": "markdown",
      "source": [
        "11. The puprose of conditional code is to perform our code with a condtion and where our condition are true then it give the outputs .eg- i will play footall when the weather is sunny."
      ],
      "metadata": {
        "id": "T1VXpMxIUWlk"
      }
    },
    {
      "cell_type": "markdown",
      "source": [
        "12. In if and else we only gives 2 condition ,but when we using elif we can give more condition to verify the conditions , when condition are true then it give output value."
      ],
      "metadata": {
        "id": "EhwhamjEU8JN"
      }
    },
    {
      "cell_type": "markdown",
      "source": [
        "13.In Python, a while loop While loop is used to repeatedly execute a block of statements while a condition is true.\n",
        "In python ,For loop is used to iterate over a sequence of items"
      ],
      "metadata": {
        "id": "p_V1zJ6qVzw9"
      }
    },
    {
      "cell_type": "markdown",
      "source": [
        "14.Imagine a situation where you are reading data from a file until you reach the end. You don't know how many lines the file contains, so you need a loop that keeps reading line by line until there are no more lines to read. In such a case, a \"While Loop\" is more appropriate because the number of iterations needed isn't known in advance—it depends on the file's content"
      ],
      "metadata": {
        "id": "513mY0cjX0jL"
      }
    },
    {
      "cell_type": "markdown",
      "source": [],
      "metadata": {
        "id": "1GeoSNCuLP8d"
      }
    },
    {
      "cell_type": "markdown",
      "source": [
        "Practial questions"
      ],
      "metadata": {
        "id": "X_F368CgZD20"
      }
    },
    {
      "cell_type": "code",
      "source": [
        "print(\"hello world\") #1"
      ],
      "metadata": {
        "colab": {
          "base_uri": "https://localhost:8080/"
        },
        "id": "nLnNW5UTZNQD",
        "outputId": "c5cfad17-56b6-46ab-f8d9-dae22259a66d"
      },
      "execution_count": 1,
      "outputs": [
        {
          "output_type": "stream",
          "name": "stdout",
          "text": [
            "hello world\n"
          ]
        }
      ]
    },
    {
      "cell_type": "code",
      "source": [
        "name='ashutosh singh' #2\n",
        "age=22\n",
        "print(name)\n",
        "print(\"i am\", age)"
      ],
      "metadata": {
        "colab": {
          "base_uri": "https://localhost:8080/"
        },
        "id": "fRXDiSvZZTAF",
        "outputId": "adaab1dd-2c6e-409c-d608-5dde0aed8256"
      },
      "execution_count": 1,
      "outputs": [
        {
          "output_type": "stream",
          "name": "stdout",
          "text": [
            "ashutosh singh\n",
            "i am 22\n"
          ]
        }
      ]
    },
    {
      "cell_type": "code",
      "source": [
        "help('keywords') #3"
      ],
      "metadata": {
        "colab": {
          "base_uri": "https://localhost:8080/"
        },
        "id": "VBZEEyrvZrC4",
        "outputId": "f9e7917b-ebdd-409e-962b-d4b013a1bedc"
      },
      "execution_count": 4,
      "outputs": [
        {
          "output_type": "stream",
          "name": "stdout",
          "text": [
            "\n",
            "Here is a list of the Python keywords.  Enter any keyword to get more help.\n",
            "\n",
            "False               class               from                or\n",
            "None                continue            global              pass\n",
            "True                def                 if                  raise\n",
            "and                 del                 import              return\n",
            "as                  elif                in                  try\n",
            "assert              else                is                  while\n",
            "async               except              lambda              with\n",
            "await               finally             nonlocal            yield\n",
            "break               for                 not                 \n",
            "\n"
          ]
        }
      ]
    },
    {
      "cell_type": "code",
      "source": [
        "import keyword #4\n",
        "keyword.iskeyword('while')"
      ],
      "metadata": {
        "colab": {
          "base_uri": "https://localhost:8080/"
        },
        "id": "odaS3MHbZxEd",
        "outputId": "d8ee252e-1f62-45b9-a434-914167eea4df"
      },
      "execution_count": 5,
      "outputs": [
        {
          "output_type": "execute_result",
          "data": {
            "text/plain": [
              "True"
            ]
          },
          "metadata": {},
          "execution_count": 5
        }
      ]
    },
    {
      "cell_type": "code",
      "source": [
        "list=[\"ashutosh\", 2, 34, \"singh\"] #5\n",
        "list[2]\n",
        "list[2]= \"python\"\n",
        "print(list)\n"
      ],
      "metadata": {
        "colab": {
          "base_uri": "https://localhost:8080/"
        },
        "id": "DIcQ0ii7afVa",
        "outputId": "f2b96409-e304-44ca-a8b9-65bcca5c52d8"
      },
      "execution_count": 7,
      "outputs": [
        {
          "output_type": "stream",
          "name": "stdout",
          "text": [
            "['ashutosh', 2, 'python', 'singh']\n"
          ]
        }
      ]
    },
    {
      "cell_type": "code",
      "source": [
        "tuple=(\"singh\", 23, 32, \"python\") #5\n",
        "tuple[2]\n",
        "# in tuple we cant's use item assignment tuple[2]=\"singh\""
      ],
      "metadata": {
        "colab": {
          "base_uri": "https://localhost:8080/"
        },
        "id": "jT00dkVfDp56",
        "outputId": "7945fcbe-ffb5-4ef4-f142-eba0487b1889"
      },
      "execution_count": 10,
      "outputs": [
        {
          "output_type": "execute_result",
          "data": {
            "text/plain": [
              "32"
            ]
          },
          "metadata": {},
          "execution_count": 10
        }
      ]
    },
    {
      "cell_type": "code",
      "source": [
        "ist=[\"ashutosh\", 2, 34, \"singh\"] #6\n",
        "list[2]\n",
        "list[2]= \"python\"\n",
        "print(list) #list are work as a mutable"
      ],
      "metadata": {
        "colab": {
          "base_uri": "https://localhost:8080/"
        },
        "id": "sKJjZPrwEqBW",
        "outputId": "e5419ee1-912b-4a67-f572-59d0c7287915"
      },
      "execution_count": 11,
      "outputs": [
        {
          "output_type": "stream",
          "name": "stdout",
          "text": [
            "['ashutosh', 2, 'python', 'singh']\n"
          ]
        }
      ]
    },
    {
      "cell_type": "code",
      "source": [
        "tuple=(\"singh\", 23, 32, \"python\") #6\n",
        "tuple[2]\n",
        "# in tuple we cant's use item assignment. it is an example of immutable tuple[2]=\"singh\""
      ],
      "metadata": {
        "colab": {
          "base_uri": "https://localhost:8080/"
        },
        "id": "39gMJnPPFRJH",
        "outputId": "f8d3738f-d44c-4dc5-8171-55d1f778735d"
      },
      "execution_count": 12,
      "outputs": [
        {
          "output_type": "execute_result",
          "data": {
            "text/plain": [
              "32"
            ]
          },
          "metadata": {},
          "execution_count": 12
        }
      ]
    },
    {
      "cell_type": "code",
      "source": [
        "n= int(input(\"enter the first value\"))#7\n",
        "m= int(input(\"enter the second value\"))\n",
        "o= m+n\n",
        "print(o)"
      ],
      "metadata": {
        "colab": {
          "base_uri": "https://localhost:8080/"
        },
        "id": "CA8AVT8BFe4s",
        "outputId": "6997cfa7-a12a-4d48-d299-42d427f18163"
      },
      "execution_count": 15,
      "outputs": [
        {
          "output_type": "stream",
          "name": "stdout",
          "text": [
            "enter the first value50\n",
            "enter the second value70\n",
            "120\n"
          ]
        }
      ]
    },
    {
      "cell_type": "code",
      "source": [
        "n= int(input(\"enter the first value\")) #7\n",
        "m= int(input(\"enter the second value\"))\n",
        "o= m-n\n",
        "print(o)"
      ],
      "metadata": {
        "id": "ONtYLbNIFyJH"
      },
      "execution_count": null,
      "outputs": []
    },
    {
      "cell_type": "code",
      "source": [
        "n= int(input(\"enter the first value\")) #7\n",
        "m= int(input(\"enter the second value\"))\n",
        "o= m*n\n",
        "print(o)"
      ],
      "metadata": {
        "id": "D3lolUojGi5J"
      },
      "execution_count": null,
      "outputs": []
    },
    {
      "cell_type": "code",
      "source": [
        "n= int(input(\"enter the first value\")) #7\n",
        "m= int(input(\"enter the second value\"))\n",
        "o= m/n\n",
        "print(o)"
      ],
      "metadata": {
        "colab": {
          "base_uri": "https://localhost:8080/"
        },
        "id": "cvGeOGQdGorb",
        "outputId": "359de15c-485a-422d-d5e2-23e35d53663d"
      },
      "execution_count": 16,
      "outputs": [
        {
          "output_type": "stream",
          "name": "stdout",
          "text": [
            "enter the first value20\n",
            "enter the second value5\n",
            "0.25\n"
          ]
        }
      ]
    },
    {
      "cell_type": "code",
      "source": [
        "m=45 #8\n",
        "y=\"true\"\n",
        "if (m>0 and m<30):\n",
        "  print(\"the value is less then 45\")\n",
        "else:\n",
        "  print(\"the number is greater then 45\")\n",
        "if (m<0 or m>45):\n",
        "  print(\"times good to talk\")\n",
        "else:\n",
        "  print(\"nothing\")\n",
        "if (y ==\"false\"):\n",
        "  print(\"i am good\")\n",
        "else:\n",
        "  print(\"i am not good\")"
      ],
      "metadata": {
        "colab": {
          "base_uri": "https://localhost:8080/"
        },
        "id": "YV-vzYs5GvFX",
        "outputId": "231a8140-c82e-4fbe-b1db-6d0dca59b147"
      },
      "execution_count": 24,
      "outputs": [
        {
          "output_type": "stream",
          "name": "stdout",
          "text": [
            "the number is greater then 45\n",
            "nothing\n",
            "i am not good\n"
          ]
        }
      ]
    },
    {
      "cell_type": "code",
      "source": [
        "m= input(\"enter the value \") #9\n",
        "print(type(m))\n",
        "print(type(int(m)))"
      ],
      "metadata": {
        "colab": {
          "base_uri": "https://localhost:8080/"
        },
        "id": "bOW-uQ_OHv0V",
        "outputId": "168b721f-83ad-4c6f-b3a0-87de25fb3432"
      },
      "execution_count": 31,
      "outputs": [
        {
          "output_type": "stream",
          "name": "stdout",
          "text": [
            "enter the value 20\n",
            "<class 'str'>\n",
            "<class 'int'>\n"
          ]
        }
      ]
    },
    {
      "cell_type": "code",
      "source": [
        "m= input(\"enter the value \")#9\n",
        "print(type(m))\n",
        "print(type(float(m)))"
      ],
      "metadata": {
        "id": "7ZcEh1n4JRuk"
      },
      "execution_count": null,
      "outputs": []
    },
    {
      "cell_type": "code",
      "source": [
        "m= input(\"enter the value \") #9\n",
        "print(type(m))\n",
        "print(type(bool(m)))"
      ],
      "metadata": {
        "colab": {
          "base_uri": "https://localhost:8080/"
        },
        "id": "tSvp-LA4KJYm",
        "outputId": "acc2e319-c8a9-451d-8528-840313ed8b99"
      },
      "execution_count": 32,
      "outputs": [
        {
          "output_type": "stream",
          "name": "stdout",
          "text": [
            "enter the value 20\n",
            "<class 'str'>\n",
            "<class 'bool'>\n"
          ]
        }
      ]
    },
    {
      "cell_type": "code",
      "source": [
        "list=[\"ashu\" ,32, 34, \"pyton\"] #10\n",
        "print(type(list[2]))\n",
        "print(type(str(list[2])))"
      ],
      "metadata": {
        "colab": {
          "base_uri": "https://localhost:8080/"
        },
        "id": "8FMBSjzmKLd9",
        "outputId": "0cd9c8a2-8f37-4661-a264-87691964e093"
      },
      "execution_count": 39,
      "outputs": [
        {
          "output_type": "stream",
          "name": "stdout",
          "text": [
            "<class 'int'>\n",
            "<class 'str'>\n"
          ]
        }
      ]
    },
    {
      "cell_type": "code",
      "source": [
        "m= int(input(\"enter the value\")) #11\n",
        "if (m>=1):\n",
        "  print(\"the number is postive \")\n",
        "elif(m<=-1):\n",
        "  print(\"the number is negative\")\n",
        "else:\n",
        "  print(\"the number is zero\")"
      ],
      "metadata": {
        "colab": {
          "base_uri": "https://localhost:8080/"
        },
        "id": "0dczdnpuKlqX",
        "outputId": "d62951f1-7be3-4a89-df33-9795b97ca875"
      },
      "execution_count": 47,
      "outputs": [
        {
          "output_type": "stream",
          "name": "stdout",
          "text": [
            "enter the value0\n",
            "the number is zero\n"
          ]
        }
      ]
    },
    {
      "cell_type": "code",
      "source": [
        "for i in range(1,11): #12\n",
        "    print(i)\n",
        ""
      ],
      "metadata": {
        "colab": {
          "base_uri": "https://localhost:8080/"
        },
        "id": "eTakF7cwMxP2",
        "outputId": "67268f38-ce5e-4d35-fd65-8f5d45c9f821"
      },
      "execution_count": 55,
      "outputs": [
        {
          "output_type": "stream",
          "name": "stdout",
          "text": [
            "1\n",
            "2\n",
            "3\n",
            "4\n",
            "5\n",
            "6\n",
            "7\n",
            "8\n",
            "9\n",
            "10\n"
          ]
        }
      ]
    },
    {
      "cell_type": "markdown",
      "source": [],
      "metadata": {
        "id": "sP6yT1JOQVL7"
      }
    }
  ]
}